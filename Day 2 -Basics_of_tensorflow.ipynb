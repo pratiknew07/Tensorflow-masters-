{
  "nbformat": 4,
  "nbformat_minor": 0,
  "metadata": {
    "colab": {
      "provenance": []
    },
    "kernelspec": {
      "name": "python3",
      "display_name": "Python 3"
    },
    "language_info": {
      "name": "python"
    }
  },
  "cells": [
    {
      "cell_type": "markdown",
      "source": [
        "# Mastering TensorFlow: Day 2 - Setting Up the Environment and First Program\n"
      ],
      "metadata": {
        "id": "DoSVm3DgQ7Wx"
      }
    },
    {
      "cell_type": "markdown",
      "source": [
        "**Importing TensorFlow**"
      ],
      "metadata": {
        "id": "K4HAvaq9RMSO"
      }
    },
    {
      "cell_type": "code",
      "source": [
        "import tensorflow as tf\n",
        "\n",
        "# Checking TensorFlow version\n",
        "print(\"TensorFlow version:\", tf.__version__)\n",
        "\n"
      ],
      "metadata": {
        "colab": {
          "base_uri": "https://localhost:8080/",
          "height": 0
        },
        "id": "VViYkmnFROOk",
        "outputId": "d8941c4c-d85a-45a5-a429-f966d7686a3d"
      },
      "execution_count": 9,
      "outputs": [
        {
          "output_type": "stream",
          "name": "stdout",
          "text": [
            "TensorFlow version: 2.17.0\n"
          ]
        }
      ]
    },
    {
      "cell_type": "markdown",
      "source": [
        "**Explanation : In this cell, we’re importing TensorFlow and verifying the installation by printing the version. This ensures that everything is set up correctly before we move on.**"
      ],
      "metadata": {
        "id": "yYam8QOhTiXc"
      }
    },
    {
      "cell_type": "code",
      "source": [],
      "metadata": {
        "id": "yjPbdBRhRRAG"
      },
      "execution_count": null,
      "outputs": []
    },
    {
      "cell_type": "markdown",
      "source": [
        "## What are Tensors?\n",
        "Tensors are the fundamental building blocks of TensorFlow. They are multi-dimensional arrays with a uniform type. Tensors can represent everything from simple numbers (scalars) to complex multidimensional data like images or videos.\n",
        "\n",
        "- **Scalar:** A single number (0-dimensional tensor).\n",
        "- **Vector:** A 1-dimensional tensor (like a list of numbers).\n",
        "- **Matrix:** A 2-dimensional tensor (like a 2D array).\n",
        "- **n-D Tensor:** A multi-dimensional array.\n",
        "\n",
        "Let's create some basic tensors.\n"
      ],
      "metadata": {
        "id": "YTtVQwhERkx1"
      }
    },
    {
      "cell_type": "code",
      "source": [],
      "metadata": {
        "id": "EG5_Ol57RmcD"
      },
      "execution_count": null,
      "outputs": []
    },
    {
      "cell_type": "markdown",
      "source": [
        "## What is constant`?\n",
        "In TensorFlow, `tf.constant` is used to create a tensor with a fixed value. This tensor is immutable, meaning its value cannot be changed after it's created. It's often used for constants or fixed parameters in your models.\n"
      ],
      "metadata": {
        "id": "VMHIw_-xU33o"
      }
    },
    {
      "cell_type": "code",
      "source": [
        "# Creating a constant tensor\n",
        "constant_tensor = tf.constant([1, 2, 3, 4, 5])\n",
        "print(\"Constant Tensor:\", constant_tensor)\n",
        "\n",
        "# Creating a 2D constant tensor (matrix)\n",
        "constant_matrix = tf.constant([[10, 20], [30, 40]])\n",
        "print(\"Constant Matrix:\\n\", constant_matrix)\n"
      ],
      "metadata": {
        "colab": {
          "base_uri": "https://localhost:8080/",
          "height": 0
        },
        "id": "Cd2zlw0jVoMi",
        "outputId": "b6bdf2e9-6dbe-4cae-d449-1e2ea1aa1af9"
      },
      "execution_count": 10,
      "outputs": [
        {
          "output_type": "stream",
          "name": "stdout",
          "text": [
            "Constant Tensor: tf.Tensor([1 2 3 4 5], shape=(5,), dtype=int32)\n",
            "Constant Matrix:\n",
            " tf.Tensor(\n",
            "[[10 20]\n",
            " [30 40]], shape=(2, 2), dtype=int32)\n"
          ]
        }
      ]
    },
    {
      "cell_type": "markdown",
      "source": [
        "## What is Variable?\n",
        "`tf.Variable` is used to create a tensor whose value can be changed. It is mutable and is typically used to store weights, biases, and other parameters in a neural network that need to be updated during training.\n"
      ],
      "metadata": {
        "id": "x7LrjxhKVzc_"
      }
    },
    {
      "cell_type": "code",
      "source": [
        "# Creating a variable tensor\n",
        "variable_tensor = tf.Variable([1, 2, 3, 4, 5])\n",
        "print(\"Variable Tensor:\", variable_tensor)\n",
        "\n",
        "# Modifying the value of the variable tensor\n",
        "variable_tensor.assign([5, 4, 3, 2, 1])\n",
        "print(\"Modified Variable Tensor:\", variable_tensor)\n"
      ],
      "metadata": {
        "colab": {
          "base_uri": "https://localhost:8080/",
          "height": 0
        },
        "id": "vJ6CP-lQV9hR",
        "outputId": "a22a5e06-e0a5-478c-893e-2159a1b778ba"
      },
      "execution_count": 11,
      "outputs": [
        {
          "output_type": "stream",
          "name": "stdout",
          "text": [
            "Variable Tensor: <tf.Variable 'Variable:0' shape=(5,) dtype=int32, numpy=array([1, 2, 3, 4, 5], dtype=int32)>\n",
            "Modified Variable Tensor: <tf.Variable 'Variable:0' shape=(5,) dtype=int32, numpy=array([5, 4, 3, 2, 1], dtype=int32)>\n"
          ]
        }
      ]
    },
    {
      "cell_type": "markdown",
      "source": [
        "## constant vs Variable\n",
        "- **`tf.constant`:** Immutable tensor, value cannot be changed once created.\n",
        "- **`tf.Variable`:** Mutable tensor, value can be updated during execution.\n",
        "\n",
        "Understanding when to use each is key to effective TensorFlow programming. Constants are used for fixed values, while variables are used for parameters that are updated during training.\n"
      ],
      "metadata": {
        "id": "jFt2M-kPWKGp"
      }
    },
    {
      "cell_type": "code",
      "source": [
        "# Creating a scalar\n",
        "scalar = tf.constant(7)\n",
        "print(\"Scalar:\", scalar)\n",
        "\n",
        "# Creating a vector\n",
        "vector = tf.constant([10, 20, 30])\n",
        "print(\"Vector:\", vector)\n",
        "\n",
        "# Creating a matrix\n",
        "matrix = tf.constant([[1, 2], [3, 4]])\n",
        "print(\"Matrix:\", matrix)\n",
        "\n",
        "# Creating a tensor\n",
        "tensor = tf.constant([[[1, 2, 3], [4, 5, 6]], [[7, 8, 9], [10, 11, 12]]])\n",
        "print(\"Tensor:\", tensor)\n"
      ],
      "metadata": {
        "colab": {
          "base_uri": "https://localhost:8080/",
          "height": 0
        },
        "id": "BRxtUvq5Rx1T",
        "outputId": "76980ef3-5057-4c5c-f9b3-416e893e9f00"
      },
      "execution_count": 3,
      "outputs": [
        {
          "output_type": "stream",
          "name": "stdout",
          "text": [
            "Scalar: tf.Tensor(7, shape=(), dtype=int32)\n",
            "Vector: tf.Tensor([10 20 30], shape=(3,), dtype=int32)\n",
            "Matrix: tf.Tensor(\n",
            "[[1 2]\n",
            " [3 4]], shape=(2, 2), dtype=int32)\n",
            "Tensor: tf.Tensor(\n",
            "[[[ 1  2  3]\n",
            "  [ 4  5  6]]\n",
            "\n",
            " [[ 7  8  9]\n",
            "  [10 11 12]]], shape=(2, 2, 3), dtype=int32)\n"
          ]
        }
      ]
    },
    {
      "cell_type": "markdown",
      "source": [
        "**Explanation:\n",
        "Here, we’re creating different types of tensors: a scalar, a vector, a matrix, and a more complex multi-dimensional tensor. This is fundamental to understanding how TensorFlow represents data.**"
      ],
      "metadata": {
        "id": "C3TutLCLR64x"
      }
    },
    {
      "cell_type": "markdown",
      "source": [
        "**Basic Tensor Operations\n",
        "text**"
      ],
      "metadata": {
        "id": "mgE-_raqSFkz"
      }
    },
    {
      "cell_type": "code",
      "source": [
        "# Performing basic operations on tensors\n",
        "a = tf.constant([1, 2, 3])\n",
        "b = tf.constant([4, 5, 6])\n",
        "\n",
        "# Element-wise addition\n",
        "c = tf.add(a, b)\n",
        "print(\"Element-wise addition:\", c)\n",
        "\n",
        "# Element-wise multiplication\n",
        "d = tf.multiply(a, b)\n",
        "print(\"Element-wise multiplication:\", d)\n",
        "\n",
        "#Element-wise subtraction\n",
        "e = tf.subtract(a, b)\n",
        "print(\"Element-wise subtraction:\", e)\n",
        "\n",
        "#Element-wise division\n",
        "f = tf.divide(a, b)\n",
        "print(\"Element-wise division:\", f)\n"
      ],
      "metadata": {
        "colab": {
          "base_uri": "https://localhost:8080/",
          "height": 0
        },
        "id": "JPd_rySVR9Nb",
        "outputId": "dd83be43-4f9c-4566-cba2-443ac9ea73cf"
      },
      "execution_count": 5,
      "outputs": [
        {
          "output_type": "stream",
          "name": "stdout",
          "text": [
            "Element-wise addition: tf.Tensor([5 7 9], shape=(3,), dtype=int32)\n",
            "Element-wise multiplication: tf.Tensor([ 4 10 18], shape=(3,), dtype=int32)\n",
            "Element-wise subtraction: tf.Tensor([-3 -3 -3], shape=(3,), dtype=int32)\n",
            "Element-wise division: tf.Tensor([0.25 0.4  0.5 ], shape=(3,), dtype=float64)\n"
          ]
        }
      ]
    },
    {
      "cell_type": "markdown",
      "source": [
        "**Explanation:\n",
        "In this section, we perform basic tensor operations such as addition,subtraction,multiplication and division. These operations are crucial as they form the basis of more complex neural network operations.**"
      ],
      "metadata": {
        "id": "7Fcw-2NySXo4"
      }
    },
    {
      "cell_type": "code",
      "source": [],
      "metadata": {
        "id": "wmvOmHLBSas1"
      },
      "execution_count": null,
      "outputs": []
    },
    {
      "cell_type": "markdown",
      "source": [
        "## Conclusion\n",
        "Today, we’ve successfully set up our environment, understood the core concept of tensors, and performed some basic operations using TensorFlow. These building blocks will be essential as we move forward into more complex topics.\n",
        "\n",
        "Tomorrow, we'll explore how to work with data in TensorFlow and start building our first model. Stay tuned, and keep following along on this journey! 🚀\n"
      ],
      "metadata": {
        "id": "kj5qFfKISc2J"
      }
    }
  ]
}